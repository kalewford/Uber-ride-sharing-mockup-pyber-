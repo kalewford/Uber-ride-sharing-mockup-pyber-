{
 "cells": [
  {
   "cell_type": "code",
   "execution_count": null,
   "metadata": {},
   "outputs": [],
   "source": [
    "%matplotlib inline\n",
    "# Dependencies and Setup\n",
    "import matplotlib.pyplot as plt\n",
    "import pandas as pd\n",
    "import numpy as np\n",
    "import plotly\n",
    "\n",
    "# File to Load (Remember to change these)\n",
    "\n",
    "ride_data_to_load = (\"data/ride_data.csv\")\n",
    "city_data_to_load = (\"data/city_data.csv\")\n",
    "\n",
    "# Read the City and Ride Data\n",
    "\n",
    "ride_data_to_load = pd.read_csv(\"data/ride_data.csv\")\n",
    "city_data_to_load = pd.read_csv(\"data/city_data.csv\")\n",
    "# Combine the data into a single dataset\n",
    "combined_data = pd.merge(city_data_to_load, ride_data_to_load)\n",
    "combined_data.head()\n",
    "# Display the data table for preview\n"
   ]
  },
  {
   "cell_type": "code",
   "execution_count": null,
   "metadata": {},
   "outputs": [],
   "source": [
    "color_scheme = {'Gold':'#FFD700', 'Light Sky Blue':'#87CEFA', 'Light Coral':'#F08080'}"
   ]
  },
  {
   "cell_type": "markdown",
   "metadata": {},
   "source": [
    "## Bubble Plot of Ride Sharing Data"
   ]
  },
  {
   "cell_type": "code",
   "execution_count": null,
   "metadata": {},
   "outputs": [],
   "source": [
    "#group be city name\n",
    "by_city = combined_data.groupby('city')\n",
    "\n",
    "# var holding avg fare by city\n",
    "avg_fare = by_city.mean()['fare']\n",
    "\n",
    "#var holding rides by city\n",
    "ride_count = by_city['ride_id'].count()\n",
    "\n",
    "# num of drivers\n",
    "driver_count = by_city.mean()['driver_count']\n",
    "\n",
    "# city type data\n",
    "city_type = city_data_to_load.set_index('city')['type']\n",
    "\n",
    "# dataframe from above series\n",
    "city_info = pd.DataFrame({\n",
    "    \"Number of Rides\": ride_count,\n",
    "    \"Average Fare\": avg_fare,\n",
    "    \"Number of Drivers\": driver_count,\n",
    "    \"Type of City\": city_type\n",
    "})\n",
    "\n",
    "\n",
    "city_info.sort_values('Number of Drivers', ascending = False)\n",
    "\n",
    "#separated dfs for city categories\n",
    "rural = city_info[city_info['Type of City'] == 'Rural']\n",
    "suburban = city_info[city_info['Type of City'] == 'Suburban']\n",
    "urban = city_info[city_info['Type of City'] == 'Urban']\n",
    "\n",
    "#Color Dictionary \n",
    "city_color = {'Urban': color_scheme['Gold'], 'Suburban': color_scheme['Light Sky Blue'], 'Rural': color_scheme['Light Coral']}\n",
    "\n",
    "plt.suptitle('Pyber Ride Sharing Data')\n",
    "\n",
    "# three scatter plots for each city type\n",
    "plt.scatter(rural['Number of Rides'], rural['Average Fare'], s = rural['Number of Drivers']*10, color = city_color['Rural'], edgecolor = 'black', label = 'Rural', alpha = .75)\n",
    "plt.scatter(suburban['Number of Rides'], suburban['Average Fare'], s = suburban['Number of Drivers']*10, color = city_color['Suburban'], edgecolor = 'black', label = 'Suburban', alpha = .75)\n",
    "plt.scatter(urban['Number of Rides'], urban['Average Fare'], s = urban['Number of Drivers']*10, color = city_color['Urban'], edgecolor = 'black', label = 'Urban', alpha = .75)\n",
    "\n",
    "#print scatter plot\n",
    "plt.title('Note : Size of Bubble Corresponds to Number of Drivers per City')\n",
    "plt.xlabel('Number of Rides per City')\n",
    "plt.ylabel('Average Fare per City')\n",
    "\n",
    "\n",
    "\n",
    "lgnd = plt.legend(frameon = True, edgecolor = 'black')\n",
    "lgnd.legendHandles[0]._sizes = [75]\n",
    "lgnd.legendHandles[1]._sizes = [75]\n",
    "lgnd.legendHandles[2]._sizes = [75]\n",
    "\n",
    "plt.show()\n"
   ]
  },
  {
   "cell_type": "markdown",
   "metadata": {},
   "source": [
    "## Total Fares by City Type"
   ]
  },
  {
   "cell_type": "code",
   "execution_count": null,
   "metadata": {},
   "outputs": [],
   "source": [
    "#group by type to be used by all pie charts\n",
    "by_type = combined_data.groupby('type')['type', 'fare', 'ride_id', 'driver_count']\n",
    "\n",
    "#total fare by city\n",
    "fare_sum = by_type.sum()['fare']\n",
    "\n",
    "#pie chart build\n",
    "labels = fare_sum.index\n",
    "\n",
    "#colors and exploe the same for all pie charts, reference here\n",
    "colors = [city_color[n] for n in labels]\n",
    "explode = [0 , 0, .3]\n",
    "plt.pie(fare_sum, startangle = 90, colors = colors, explode = explode, labels = labels, autopct = \"%1.1f%%\", shadow = True, wedgeprops = {'linewidth': .5, 'edgecolor': 'black'})\n",
    "\n",
    "#pie chart display\n",
    "plt.title('% of Total Fares by City Type')\n",
    "plt.axis('equal')\n",
    "plt.show()"
   ]
  },
  {
   "cell_type": "markdown",
   "metadata": {},
   "source": [
    "## Total Rides by City Type"
   ]
  },
  {
   "cell_type": "code",
   "execution_count": null,
   "metadata": {},
   "outputs": [],
   "source": [
    "# number of ride per city type\n",
    " \n",
    "ride_sum = by_type.count()['ride_id']\n",
    "\n",
    "labels = ride_sum.index\n",
    "plt.pie(ride_sum, startangle = 90, explode = explode, colors = colors, labels = labels, autopct = \"%1.1f%%\", shadow = True, wedgeprops = {'linewidth': .5, 'edgecolor': 'black'})\n",
    "plt.title('% of Total Rides by City Type')\n",
    "plt.axis('equal')\n",
    "plt.show()"
   ]
  },
  {
   "cell_type": "markdown",
   "metadata": {},
   "source": [
    "## Total Drivers by City Type"
   ]
  },
  {
   "cell_type": "code",
   "execution_count": null,
   "metadata": {},
   "outputs": [],
   "source": [
    "# of driver per city type\n",
    "\n",
    "driver_sum = city_data_to_load.groupby('type').sum()['driver_count']\n",
    "\n",
    "labels = driver_sum.index\n",
    "plt.pie(driver_sum, startangle = 125, explode = explode, colors = colors, labels = labels, autopct = \"%1.1f%%\", shadow = True, wedgeprops = {'linewidth': .5, 'edgecolor': 'black'})\n",
    "plt.title('% of Total Drivers by City Type')\n",
    "plt.axis('equal')\n",
    "plt.show()"
   ]
  },
  {
   "cell_type": "code",
   "execution_count": null,
   "metadata": {},
   "outputs": [],
   "source": []
  }
 ],
 "metadata": {
  "anaconda-cloud": {},
  "kernelspec": {
   "display_name": "Python 3",
   "language": "python",
   "name": "python3"
  },
  "language_info": {
   "codemirror_mode": {
    "name": "ipython",
    "version": 3
   },
   "file_extension": ".py",
   "mimetype": "text/x-python",
   "name": "python",
   "nbconvert_exporter": "python",
   "pygments_lexer": "ipython3",
   "version": "3.7.1"
  }
 },
 "nbformat": 4,
 "nbformat_minor": 2
}
